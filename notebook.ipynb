{
 "cells": [
  {
   "cell_type": "code",
   "execution_count": 248,
   "metadata": {},
   "outputs": [],
   "source": [
    "import torch\n",
    "import torch.nn as nn\n",
    "import torch.nn.functional as F\n",
    "from torch.autograd import Variable\n",
    "import torchvision\n",
    "import numpy as np\n",
    "import pandas as pd\n",
    "import matplotlib.pyplot as plt\n",
    "import re\n",
    "import os\n",
    "\n",
    "from pymystem3 import Mystem\n",
    "\n",
    "import nltk\n",
    "from nltk.tokenize import word_tokenize\n",
    "from nltk import PorterStemmer\n",
    "from nltk import WordNetLemmatizer\n",
    "from nltk.corpus import stopwords\n",
    "\n",
    "from sklearn.feature_extraction.text import CountVectorizer\n",
    "from sklearn.model_selection import train_test_split\n",
    "\n"
   ]
  },
  {
   "cell_type": "code",
   "execution_count": 249,
   "metadata": {},
   "outputs": [],
   "source": [
    "\n",
    "def Lemmatize(src: list):\n",
    "    ''' Лемматизирует переданный датасет\n",
    "    '''\n",
    "    text_nomalized = ' '.join(src).lower() \n",
    "\n",
    "    m = Mystem()\n",
    "    lemmas = m.lemmatize(text_nomalized)\n",
    "    \n",
    "    return lemmas"
   ]
  },
  {
   "cell_type": "code",
   "execution_count": 250,
   "metadata": {},
   "outputs": [
    {
     "name": "stdout",
     "output_type": "stream",
     "text": [
      "   mark                                    text_of_comment\n",
      "0     1  Сразу отвечаю на вопрос, почему я решила прочи...\n",
      "1     1  Эта сказка хоть и сказка,но учит всех людей то...\n",
      "2     1  Несомненно видно мастерство автора, который с ...\n",
      "3     1  Эта сказка хоть и сказка,но учит всех людей то...\n",
      "4     1  Несомненно видно мастерство автора, который с ...\n"
     ]
    }
   ],
   "source": [
    "data = pd.read_csv('dataframe.csv')\n",
    "data = data.head(5)\n",
    "print(data)\n",
    "#data = data.head(10)\n",
    "#«Обучающая выборка» — это набор данных, который используется для разработки модели машинного обучения.\n",
    "\n",
    "#«Валидационная выборка» — это набор данных, который используется в процессе разработки модели машинного обучения для подбора оптимального набора гиперпараметров.\n",
    "\n",
    "#«Тестовая выборка» — это набор данных, который не используется непосредственно в процессе обучения модели или для подбора гиперпараметров, \n",
    "# однако позволяет протестировать модель и является контрольным."
   ]
  },
  {
   "cell_type": "code",
   "execution_count": 251,
   "metadata": {},
   "outputs": [
    {
     "name": "stdout",
     "output_type": "stream",
     "text": [
      "remove_non_alphabets\n",
      "tokenize\n",
      "stem\n",
      "Lemmatize\n",
      "0\n",
      "1\n",
      "2\n",
      "3\n",
      "4\n",
      "complete\n",
      "   mark                                    text_of_comment\n",
      "0     1  сразу отвечаю на вопрос почему я решила прочит...\n",
      "1     1  эта сказка хоть и сказка но учит всех людей то...\n",
      "2     1  несомненно видно мастерство автора который с п...\n",
      "3     1  эта сказка хоть и сказка но учит всех людей то...\n",
      "4     1  несомненно видно мастерство автора который с п...\n"
     ]
    }
   ],
   "source": [
    "data.dropna(inplace=True)\n",
    "remove_non_alphabets = lambda x: re.sub(r'[^а-яА-Я]',' ',str(x))\n",
    "\n",
    "tokenize = lambda x: word_tokenize(x, language = \"russian\")\n",
    "\n",
    "ps = PorterStemmer()\n",
    "stem = lambda w: [ ps.stem(x) for x in w ]\n",
    "\n",
    "print('remove_non_alphabets')\n",
    "data['text_of_comment'] = data['text_of_comment'].apply(remove_non_alphabets)\n",
    "\n",
    "print('tokenize')\n",
    "data['text_of_comment'] = data['text_of_comment'].apply(tokenize) # [ word_tokenize(row) for row in data['email']]\n",
    "\n",
    "print('stem')\n",
    "data['text_of_comment'] = data['text_of_comment'].apply(stem)\n",
    "\n",
    "print('Lemmatize')\n",
    "c = 0\n",
    "for words_list in data['text_of_comment']:\n",
    "    words_list = Lemmatize(words_list)\n",
    "    print(c)\n",
    "    c+=1\n",
    "\n",
    "print('complete')\n",
    "data['text_of_comment'] = data['text_of_comment'].apply(lambda x: ' '.join(x))\n",
    "\n",
    "data.dropna(inplace=True)\n",
    "\n",
    "print(data)\n"
   ]
  },
  {
   "cell_type": "code",
   "execution_count": 252,
   "metadata": {},
   "outputs": [
    {
     "name": "stdout",
     "output_type": "stream",
     "text": [
      "[[0 0 0 1 1 0 1 1 0 0 0 0 1 2 1 0 0 1 0 1 1 1 0 0 0 1 0 0 0 0 0 2 1 0 1 0\n",
      "  0 0 1 0 0 0 0 1 4 0 0 1 0 0 1 1 1 1 1 0 0 0 0 0 1 0 0 0 1 0 2 0 0 1 0 0\n",
      "  0 0 1 0 0 1 0 0 1 1 1 0 1 1 0 1 1 1 1 1 0 0 0 0 1 1 2 1 1 0 1 0 1 0 0 0\n",
      "  0 0 0 0 3 1 1 0 0 1 1 0 1 0 1 1 0 1 1 0 1 0 0 0 0 1 0 0 0 0 0 0 1 1 2]\n",
      " [0 0 0 0 0 0 0 0 0 0 0 0 0 0 0 0 0 0 0 0 0 0 0 0 0 0 0 0 1 0 0 0 0 0 0 0\n",
      "  0 0 0 1 0 0 0 0 0 0 0 0 0 0 0 0 0 0 0 1 0 0 0 0 0 0 0 0 0 1 0 0 0 0 0 0\n",
      "  0 0 0 1 1 0 0 0 0 0 0 0 0 0 0 0 0 0 0 0 1 0 0 0 0 0 0 0 0 0 0 0 0 0 0 0\n",
      "  2 0 0 0 0 0 0 0 0 0 0 0 0 0 0 0 1 0 0 0 0 1 0 0 1 0 0 0 0 0 0 1 1 0 0]\n",
      " [1 1 1 0 0 1 0 0 1 1 1 1 0 0 0 1 1 0 1 0 0 0 1 2 1 0 1 1 0 1 1 0 0 2 0 1\n",
      "  1 1 0 0 1 1 2 0 0 1 1 0 2 1 0 0 0 0 1 0 1 1 1 1 0 1 1 1 0 0 0 1 1 0 1 1\n",
      "  1 1 0 0 0 0 1 1 0 0 0 1 0 0 1 0 0 0 0 0 0 1 1 1 0 0 0 0 0 1 0 1 0 1 1 1\n",
      "  0 1 1 2 0 0 0 1 1 0 0 1 0 1 0 0 0 0 0 1 0 0 1 1 0 0 1 1 1 1 1 0 2 0 0]\n",
      " [0 0 0 0 0 0 0 0 0 0 0 0 0 0 0 0 0 0 0 0 0 0 0 0 0 0 0 0 1 0 0 0 0 0 0 0\n",
      "  0 0 0 1 0 0 0 0 0 0 0 0 0 0 0 0 0 0 0 1 0 0 0 0 0 0 0 0 0 1 0 0 0 0 0 0\n",
      "  0 0 0 1 1 0 0 0 0 0 0 0 0 0 0 0 0 0 0 0 1 0 0 0 0 0 0 0 0 0 0 0 0 0 0 0\n",
      "  2 0 0 0 0 0 0 0 0 0 0 0 0 0 0 0 1 0 0 0 0 1 0 0 1 0 0 0 0 0 0 1 1 0 0]\n",
      " [1 1 1 0 0 1 0 0 1 1 1 1 0 0 0 1 1 0 1 0 0 0 1 2 1 0 1 1 0 1 1 0 0 2 0 1\n",
      "  1 1 0 0 1 1 2 0 0 1 1 0 2 1 0 0 0 0 1 0 1 1 1 1 0 1 1 1 0 0 0 1 1 0 1 1\n",
      "  1 1 0 0 0 0 1 1 0 0 0 1 0 0 1 0 0 0 0 0 0 1 1 1 0 0 0 0 0 1 0 1 0 1 1 1\n",
      "  0 1 1 2 0 0 0 1 1 0 0 1 0 1 0 0 0 0 0 1 0 0 1 1 0 0 1 1 1 1 1 0 2 0 0]]\n"
     ]
    },
    {
     "data": {
      "text/plain": [
       "(5, 143)"
      ]
     },
     "execution_count": 252,
     "metadata": {},
     "output_type": "execute_result"
    }
   ],
   "source": [
    "#max_words = 10000\n",
    "stopWords = stopwords.words('russian')\n",
    "\n",
    "vectorizer = CountVectorizer(stop_words=stopWords)\n",
    "sparse_matrix = vectorizer.fit_transform(data['text_of_comment']).toarray()\n",
    "print(sparse_matrix)\n",
    "sparse_matrix.shape"
   ]
  },
  {
   "cell_type": "code",
   "execution_count": 253,
   "metadata": {},
   "outputs": [],
   "source": [
    "x_train, x_test, y_train, y_test = train_test_split(sparse_matrix, np.array(data['mark']), test_size = 0.1, train_size = 0.8)"
   ]
  },
  {
   "cell_type": "code",
   "execution_count": 254,
   "metadata": {},
   "outputs": [],
   "source": [
    "class LogisticRegression(nn.Module):\n",
    "    def __init__(self):\n",
    "        super(LogisticRegression, self).__init__()\n",
    "        self.linear1 = nn.Linear(143, 143)\n",
    "        self.linear2 = nn.Linear(143, 143)\n",
    "        self.linear3 = nn.Linear(143, 143)\n",
    "        \n",
    "    def forward(self, x):\n",
    "        x = F.relu(self.linear1(x))\n",
    "        x = F.relu(self.linear2(x))\n",
    "        x = self.linear3(x)\n",
    "        return x"
   ]
  },
  {
   "cell_type": "code",
   "execution_count": 255,
   "metadata": {},
   "outputs": [],
   "source": [
    "model = LogisticRegression()"
   ]
  },
  {
   "cell_type": "code",
   "execution_count": 256,
   "metadata": {},
   "outputs": [],
   "source": [
    "x_train = Variable(torch.from_numpy(x_train)).float()\n",
    "y_train = Variable(torch.from_numpy(y_train)).long()"
   ]
  },
  {
   "cell_type": "code",
   "execution_count": 257,
   "metadata": {},
   "outputs": [
    {
     "name": "stdout",
     "output_type": "stream",
     "text": [
      "Epoch: 1, Loss: 4.760326385498047, Accuracy: 0.0%\n",
      "Epoch: 2, Loss: 2.6882810592651367, Accuracy: 100.0%\n",
      "Epoch: 3, Loss: 0.0, Accuracy: 100.0%\n",
      "Epoch: 4, Loss: 0.0, Accuracy: 100.0%\n",
      "Epoch: 5, Loss: 0.0, Accuracy: 100.0%\n",
      "Epoch: 6, Loss: 0.0, Accuracy: 100.0%\n",
      "Epoch: 7, Loss: 0.0, Accuracy: 100.0%\n",
      "Epoch: 8, Loss: 0.0, Accuracy: 100.0%\n",
      "Epoch: 9, Loss: 0.0, Accuracy: 100.0%\n"
     ]
    }
   ],
   "source": [
    "epochs = 9\n",
    "model.train()\n",
    "loss_values = []\n",
    "i = 0.01\n",
    "for epoch in range(epochs):\n",
    "    criterion = nn.CrossEntropyLoss()\n",
    "    optimizer = torch.optim.Adam(params=model.parameters() , lr=i)\n",
    "    optimizer\n",
    "    optimizer.zero_grad()\n",
    "    y_pred = model(x_train)\n",
    "    loss = criterion(y_pred, y_train)\n",
    "    loss_values.append(loss.item())\n",
    "    pred = torch.max(y_pred, 1)[1].eq(y_train).sum()\n",
    "    acc = pred * 100.0 / len(x_train)\n",
    "    print('Epoch: {}, Loss: {}, Accuracy: {}%'.format(epoch+1, loss.item(), acc.numpy()))\n",
    "    if epoch%3 == 0: i+=0.3 \n",
    "    loss.backward()\n",
    "    optimizer.step()"
   ]
  },
  {
   "cell_type": "code",
   "execution_count": 258,
   "metadata": {},
   "outputs": [
    {
     "data": {
      "image/png": "[encoded data removed]",
      "text/plain": [
       "<Figure size 640x480 with 1 Axes>"
      ]
     },
     "metadata": {},
     "output_type": "display_data"
    }
   ],
   "source": [
    "plt.plot(loss_values)\n",
    "plt.title('Loss Value vs Epochs')\n",
    "plt.xlabel('Epochs')\n",
    "plt.ylabel('Loss')\n",
    "plt.legend(['Loss'])\n",
    "plt.show()"
   ]
  },
  {
   "cell_type": "code",
   "execution_count": 259,
   "metadata": {},
   "outputs": [],
   "source": [
    "x_test = Variable(torch.from_numpy(x_test)).float()\n",
    "y_test = Variable(torch.from_numpy(y_test)).long()"
   ]
  },
  {
   "cell_type": "code",
   "execution_count": 260,
   "metadata": {},
   "outputs": [
    {
     "name": "stdout",
     "output_type": "stream",
     "text": [
      "Accuracy : 100.0%\n"
     ]
    }
   ],
   "source": [
    "model.eval()\n",
    "with torch.no_grad():\n",
    "    y_pred = model(x_test)\n",
    "    loss = criterion(y_pred, y_test)\n",
    "    pred = torch.max(y_pred, 1)[1].eq(y_test).sum()\n",
    "    print (\"Accuracy : {}%\".format(100*pred/len(x_test)))\n"
   ]
  }
 ],
 "metadata": {
  "kernelspec": {
   "display_name": "base",
   "language": "python",
   "name": "python3"
  },
  "language_info": {
   "codemirror_mode": {
    "name": "ipython",
    "version": 3
   },
   "file_extension": ".py",
   "mimetype": "text/x-python",
   "name": "python",
   "nbconvert_exporter": "python",
   "pygments_lexer": "ipython3",
   "version": "3.9.13 (main, Aug 25 2022, 23:51:50) [MSC v.1916 64 bit (AMD64)]"
  },
  "orig_nbformat": 4,
  "vscode": {
   "interpreter": {
    "hash": "f08154012ddadd8e950e6e9e035c7a7b32c136e7647e9b7c77e02eb723a8bedb"
   }
  }
 },
 "nbformat": 4,
 "nbformat_minor": 2
}
